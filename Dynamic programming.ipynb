{
 "cells": [
  {
   "cell_type": "markdown",
   "metadata": {},
   "source": [
    "# Code"
   ]
  },
  {
   "cell_type": "markdown",
   "metadata": {},
   "source": [
    "The following code contains a `DT_Security` class which models a discrete-time security whose price evolves according to the Multi-period Binomial Model with parameters $S(0)$, $u$, $d$ and $r$.\n",
    "\n",
    "A `DT_Option` class is also provided, which models European/American call/put options on the underlying discrete-time security.\n",
    "\n",
    "In continuous time, the `CT_Security` and `CT_Option` classes assume a geometric Brownian motion model and options are priced by first constructing a discrete-time binomial approximation.\n",
    "\n",
    "See below for example usage."
   ]
  },
  {
   "cell_type": "code",
   "execution_count": 1,
   "metadata": {},
   "outputs": [],
   "source": [
    "import numpy as np\n",
    "\n",
    "class DT_Security:\n",
    "    def __init__(self, S0, u, d, r):\n",
    "        if u - d <=0:\n",
    "            raise ValueError('u must be strictly greater than d')\n",
    "        if 1 + r < d or 1 + r > u:\n",
    "            raise ValueError('1 + r must lie between d and u')\n",
    "            \n",
    "        self.S0, self.u, self.d, self.r, = S0, u, d, r\n",
    "        \n",
    "    def price(self, t, i): # i = number of price increases, 0 <= i <= t\n",
    "        if i < 0 or i > t:\n",
    "            raise ValueError(\n",
    "                'i (number of price increases) must lie between 0 and t'\n",
    "            )\n",
    "    \n",
    "        return self.S0 * self.u**i * self.d**(t - i)\n",
    "    \n",
    "    def risk_neutral_p(self):\n",
    "        return (1 + self.r - self.d)/(self.u - self.d)\n",
    "    \n",
    "    def random_price(self, t): # under risk-neutral probabilities\n",
    "        X = np.random.binomial(t, self.risk_neutral_p())\n",
    "        return self.S0*self.u**X*self.d**(t - X)\n",
    "    \n",
    "    def option(self, strike, maturity, put=False, American=False):\n",
    "        return DT_Option(self, strike, maturity, put, American)\n",
    "    \n",
    "class DT_Option:\n",
    "    def __init__(self, security, strike, maturity, put=False, American=False):\n",
    "        self.security = security\n",
    "        self.strike = strike\n",
    "        self.maturity = maturity\n",
    "        self.put = put\n",
    "        self.American = American\n",
    "        \n",
    "    def payoff(self, t, i): # i = number of price increases, 0 <= i <= t\n",
    "        S = self.security.price(t, i)\n",
    "        K = self.strike\n",
    "        if self.put:\n",
    "            return max(K - S, 0)\n",
    "    \n",
    "        return max(S - K, 0)\n",
    "    \n",
    "    # 'prices' reutrns the list of possible prices at time t\n",
    "    def prices(self, t):\n",
    "        if t < 0 or t > self.maturity:\n",
    "            raise ValueError('t must lie between 0 and maturity')\n",
    "            \n",
    "        if t == self.maturity:\n",
    "            return [self.payoff(t, i) for i in range(t + 1)]\n",
    "    \n",
    "        p = self.security.risk_neutral_p()\n",
    "        future_prices = self.prices(t + 1)\n",
    "    \n",
    "        def not_exercised(i):\n",
    "            return (\n",
    "                p*future_prices[i + 1] + (1 - p)*future_prices[i]\n",
    "            )/(1 + self.security.r)\n",
    "        \n",
    "        def exercised(i):\n",
    "            return self.payoff(t, i)\n",
    "        \n",
    "        def price(i):\n",
    "            if self.American and exercised(i) > not_exercised(i):\n",
    "                return exercised(i)\n",
    "            return not_exercised(i)\n",
    "        \n",
    "        return [price(i) for i in range(t + 1)]\n",
    "    \n",
    "class CT_Security:\n",
    "    def __init__(self, S0, volatility, r):\n",
    "        self.S0, self.volatility, self.r = S0, volatility, r\n",
    "        \n",
    "    def drift(self): # under risk-neutral probabilities\n",
    "        return self.r - self.volatility**2/2\n",
    "        \n",
    "    def random_price(self, t): # under risk-neutral probabilities\n",
    "        X = np.random.normal(self.drift()*t, self.volatility*np.sqrt(t))\n",
    "        return self.S0 * np.exp(X)\n",
    "    \n",
    "    def option(self, strike, maturity, put=False, American=False):\n",
    "        return CT_Option(self, strike, maturity, put, American)\n",
    "\n",
    "class CT_Option:\n",
    "    def __init__(self, security, strike, maturity, put=False, American=False):\n",
    "        self.security = security\n",
    "        self.strike = strike\n",
    "        self.maturity = maturity\n",
    "        self.put = put\n",
    "        self.American = American\n",
    "        \n",
    "    def initial_price(self, timesteps=1): # option price at time t = 0\n",
    "        delta = self.maturity/timesteps\n",
    "        step = self.security.volatility*np.sqrt(delta)\n",
    "        \n",
    "        dts = DT_Security(\n",
    "            S0 = self.security.S0,\n",
    "            u = np.exp(step),\n",
    "            d = np.exp(-step),\n",
    "            r = self.security.r*delta\n",
    "        )\n",
    "        dto = dts.option(self.strike, timesteps, self.put, self.American)\n",
    "        \n",
    "        return dto.prices(0)[0]"
   ]
  },
  {
   "cell_type": "markdown",
   "metadata": {},
   "source": [
    "# Example usage: discrete time"
   ]
  },
  {
   "cell_type": "markdown",
   "metadata": {},
   "source": [
    "Create an underlying security with initial price $S(0)=100$ which evolves such that $S(t+1)=2S(t)$ if the price goes up and $S(t+1)=\\frac{1}{2}S(t)$ if the price goes down. Assume the per-period interest rate is $r=0.05$."
   ]
  },
  {
   "cell_type": "code",
   "execution_count": 2,
   "metadata": {},
   "outputs": [],
   "source": [
    "s = DT_Security(S0=100, u=2, d=1/2, r=0.05)"
   ]
  },
  {
   "cell_type": "markdown",
   "metadata": {},
   "source": [
    "Show how the price of the security can evolve with time."
   ]
  },
  {
   "cell_type": "code",
   "execution_count": 15,
   "metadata": {},
   "outputs": [
    {
     "name": "stdout",
     "output_type": "stream",
     "text": [
      "[100.0]\n",
      "[50.0, 200.0]\n",
      "[25.0, 100.0, 400.0]\n",
      "[12.5, 50.0, 200.0, 800.0]\n",
      "[6.25, 25.0, 100.0, 400.0, 1600.0]\n"
     ]
    }
   ],
   "source": [
    "for t in range(5):\n",
    "    print([s.price(t, i) for i in range(t + 1)]) # i = number of price increases"
   ]
  },
  {
   "cell_type": "markdown",
   "metadata": {},
   "source": [
    "Find the risk-neutral probability of the price going up."
   ]
  },
  {
   "cell_type": "code",
   "execution_count": 16,
   "metadata": {},
   "outputs": [
    {
     "data": {
      "text/plain": [
       "0.3666666666666667"
      ]
     },
     "execution_count": 16,
     "metadata": {},
     "output_type": "execute_result"
    }
   ],
   "source": [
    "s.risk_neutral_p()"
   ]
  },
  {
   "cell_type": "markdown",
   "metadata": {},
   "source": [
    "Generate a random price at time $t=4$."
   ]
  },
  {
   "cell_type": "code",
   "execution_count": 17,
   "metadata": {},
   "outputs": [
    {
     "data": {
      "text/plain": [
       "100.0"
      ]
     },
     "execution_count": 17,
     "metadata": {},
     "output_type": "execute_result"
    }
   ],
   "source": [
    "s.random_price(t=4)"
   ]
  },
  {
   "cell_type": "markdown",
   "metadata": {},
   "source": [
    "Create an American put option on the underlying security (European call options are the default - to create American and/or put options, set the `American` and/or `put` parameters to `True`)."
   ]
  },
  {
   "cell_type": "code",
   "execution_count": 18,
   "metadata": {},
   "outputs": [],
   "source": [
    "opt = s.option(strike=150, maturity=4, put=True, American=True)"
   ]
  },
  {
   "cell_type": "markdown",
   "metadata": {},
   "source": [
    "See how the payoff (if exercised immediately) from the option evolves over time (in the case of a European option, only $t=$ maturity has any real significance)."
   ]
  },
  {
   "cell_type": "code",
   "execution_count": 19,
   "metadata": {},
   "outputs": [
    {
     "name": "stdout",
     "output_type": "stream",
     "text": [
      "[50.0]\n",
      "[100.0, 0]\n",
      "[125.0, 50.0, 0]\n",
      "[137.5, 100.0, 0, 0]\n",
      "[143.75, 125.0, 50.0, 0, 0]\n"
     ]
    }
   ],
   "source": [
    "for t in range(5):\n",
    "    print([opt.payoff(t, i) for i in range(t + 1)])"
   ]
  },
  {
   "cell_type": "markdown",
   "metadata": {},
   "source": [
    "Show how the option price evolves over time."
   ]
  },
  {
   "cell_type": "code",
   "execution_count": 20,
   "metadata": {
    "scrolled": true
   },
   "outputs": [
    {
     "name": "stdout",
     "output_type": "stream",
     "text": [
      "[77.54197448974828]\n",
      "[100.13777409846946, 49.086771686922845]\n",
      "[125.0, 70.84908037288989, 18.190980095741995]\n",
      "[137.5, 100.0, 30.158730158730155, 0.0]\n",
      "[143.75, 125.0, 50.0, 0, 0]\n"
     ]
    }
   ],
   "source": [
    "for t in range(5): # must not go beyond maturity\n",
    "    print(opt.prices(t))"
   ]
  },
  {
   "cell_type": "markdown",
   "metadata": {},
   "source": [
    "# Example usage: continuous-time"
   ]
  },
  {
   "cell_type": "markdown",
   "metadata": {},
   "source": [
    "Define a security whose price $S(t)$ evolves according to a geometric Brownian motion process, with initial price $S(0)=105$ and volatility $\\sigma=0.3$. Suppose the continuously compounded risk-free interest rate is $r=0.1$."
   ]
  },
  {
   "cell_type": "code",
   "execution_count": 10,
   "metadata": {},
   "outputs": [],
   "source": [
    "s = CT_Security(S0=105, volatility=0.3, r=0.1)"
   ]
  },
  {
   "cell_type": "markdown",
   "metadata": {},
   "source": [
    "Generate a random price (under the risk-neutral drift parameter $\\mu$) at $t=1$."
   ]
  },
  {
   "cell_type": "code",
   "execution_count": 60,
   "metadata": {},
   "outputs": [
    {
     "data": {
      "text/plain": [
       "123.72362373417968"
      ]
     },
     "execution_count": 60,
     "metadata": {},
     "output_type": "execute_result"
    }
   ],
   "source": [
    "s.random_price(t=1)"
   ]
  },
  {
   "cell_type": "markdown",
   "metadata": {},
   "source": [
    "Find the no-arbitrage price of a European call option on the security with strike price $K=100$ which matures in six months. Show that, as the number of timesteps in the calculation tends to infinity, the calculated price converges to the one given by the Black-Scholes formula\n",
    "$$\n",
    "    C=s\\Phi \\left( \\omega \\right) -Ke^{-\\widehat{r}t}\\Phi \\left( \\omega -\\sigma \\sqrt{t}\\right),\\hspace{10mm}\n",
    "    \\omega =\\dfrac{\\widehat{r}t+\\sigma ^{2}t/2-\\ln \\left( K/s\\right) }{\\sigma \\sqrt{t}}\n",
    "$$\n",
    "(observe that the rate of convergence is not particularly fast)."
   ]
  },
  {
   "cell_type": "code",
   "execution_count": 11,
   "metadata": {
    "scrolled": true
   },
   "outputs": [
    {
     "data": {
      "text/plain": [
       "[16.017546167272176,\n",
       " 14.424040733509239,\n",
       " 14.28521115010528,\n",
       " 14.288238844241805,\n",
       " 14.286677625538012]"
      ]
     },
     "execution_count": 11,
     "metadata": {},
     "output_type": "execute_result"
    }
   ],
   "source": [
    "from scipy.stats import norm\n",
    "\n",
    "def Black_Scholes(s, sigma, K, t, r):\n",
    "    omega = (r*t + sigma**2*t/2 - np.log(K/s)) / (sigma*np.sqrt(t))\n",
    "    return s*norm.cdf(omega) - K*np.exp(-r*t)*norm.cdf(omega - sigma*np.sqrt(t))\n",
    "\n",
    "# 'American' and 'put' parameters default to False\n",
    "opt = s.option(strike=100, maturity=0.5)\n",
    "\n",
    "[opt.initial_price(timesteps=n) for n in [1, 10, 100, 1000, 2000]]"
   ]
  },
  {
   "cell_type": "code",
   "execution_count": 12,
   "metadata": {},
   "outputs": [
    {
     "name": "stdout",
     "output_type": "stream",
     "text": [
      "14.286777583621593\n"
     ]
    }
   ],
   "source": [
    "print(Black_Scholes(s.S0, s.volatility, opt.strike, opt.maturity, s.r))"
   ]
  },
  {
   "cell_type": "markdown",
   "metadata": {},
   "source": [
    "Using the above European call option as an example, verify the Put-call Parity formula\n",
    "$$\n",
    "    C-P=S-Ke^{-\\hat{r}t}.\n",
    "$$"
   ]
  },
  {
   "cell_type": "code",
   "execution_count": 63,
   "metadata": {},
   "outputs": [
    {
     "data": {
      "text/plain": [
       "-5.9450877827771365e-05"
      ]
     },
     "execution_count": 63,
     "metadata": {},
     "output_type": "execute_result"
    }
   ],
   "source": [
    "C_E = opt.initial_price(timesteps=2000)\n",
    "P_E = s.option(opt.strike, opt.maturity, put=True).initial_price(timesteps=2000)\n",
    "S = s.S0\n",
    "K = opt.strike \n",
    "r = s.r\n",
    "t = opt.maturity\n",
    "\n",
    "C_E - P_E - S + K*np.exp(-r*t)"
   ]
  },
  {
   "cell_type": "markdown",
   "metadata": {},
   "source": [
    "Verify that the prices of European and American call options are equal."
   ]
  },
  {
   "cell_type": "code",
   "execution_count": 64,
   "metadata": {},
   "outputs": [
    {
     "data": {
      "text/plain": [
       "0.0"
      ]
     },
     "execution_count": 64,
     "metadata": {},
     "output_type": "execute_result"
    }
   ],
   "source": [
    "C_A = s.option(\n",
    "    opt.strike,\n",
    "    opt.maturity,\n",
    "    American=True\n",
    ").initial_price(timesteps=2000)\n",
    "\n",
    "C_E - C_A"
   ]
  },
  {
   "cell_type": "markdown",
   "metadata": {},
   "source": [
    "Find the approximate price of an American put option with the same parameters as above (no formula available). Verify that the price is at least as large as that of an European put option."
   ]
  },
  {
   "cell_type": "code",
   "execution_count": 65,
   "metadata": {},
   "outputs": [
    {
     "name": "stdout",
     "output_type": "stream",
     "text": [
      "4.409679526487245\n",
      "4.743557724080753\n"
     ]
    }
   ],
   "source": [
    "P_A = s.option(\n",
    "    opt.strike,\n",
    "    opt.maturity,\n",
    "    put=True,\n",
    "    American=True\n",
    ").initial_price(timesteps=2000)\n",
    "\n",
    "print(P_E)\n",
    "print(P_A)"
   ]
  }
 ],
 "metadata": {
  "kernelspec": {
   "display_name": "Python 3",
   "language": "python",
   "name": "python3"
  },
  "language_info": {
   "codemirror_mode": {
    "name": "ipython",
    "version": 3
   },
   "file_extension": ".py",
   "mimetype": "text/x-python",
   "name": "python",
   "nbconvert_exporter": "python",
   "pygments_lexer": "ipython3",
   "version": "3.7.1"
  }
 },
 "nbformat": 4,
 "nbformat_minor": 2
}
